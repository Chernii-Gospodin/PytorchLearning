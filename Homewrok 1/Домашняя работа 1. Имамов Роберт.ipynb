{
 "cells": [
  {
   "cell_type": "code",
   "execution_count": 1,
   "id": "c1dacecd-0964-4112-921f-c98d9b65b5e7",
   "metadata": {},
   "outputs": [],
   "source": [
    "import torch"
   ]
  },
  {
   "cell_type": "markdown",
   "id": "380c19df-ec8c-402c-bd13-5c878085ed87",
   "metadata": {},
   "source": [
    "# Задание 1: Создание и манипуляции с тензорами (25 баллов)\n"
   ]
  },
  {
   "cell_type": "markdown",
   "id": "3f42dd49-7a95-43ea-8d3e-e654160c7894",
   "metadata": {},
   "source": [
    "## 1.1 Создание тензоров (7 баллов)\n"
   ]
  },
  {
   "cell_type": "code",
   "execution_count": 4,
   "id": "7382bd26-71c3-44d5-aaaa-a7e0bd86adf0",
   "metadata": {},
   "outputs": [
    {
     "name": "stdout",
     "output_type": "stream",
     "text": [
      "Случайный:\n",
      " tensor([[0.6611, 0.0600, 0.5174, 0.1596],\n",
      "        [0.7550, 0.8390, 0.0674, 0.4631],\n",
      "        [0.1477, 0.3597, 0.9328, 0.0170]])\n",
      "Нулевой:\n",
      " tensor([[[0., 0., 0., 0.],\n",
      "         [0., 0., 0., 0.],\n",
      "         [0., 0., 0., 0.]],\n",
      "\n",
      "        [[0., 0., 0., 0.],\n",
      "         [0., 0., 0., 0.],\n",
      "         [0., 0., 0., 0.]]])\n",
      "Единичный:\n",
      " tensor([[1., 1., 1., 1., 1.],\n",
      "        [1., 1., 1., 1., 1.],\n",
      "        [1., 1., 1., 1., 1.],\n",
      "        [1., 1., 1., 1., 1.],\n",
      "        [1., 1., 1., 1., 1.]])\n",
      "Последовательный:\n",
      " tensor([[ 0,  1,  2,  3],\n",
      "        [ 4,  5,  6,  7],\n",
      "        [ 8,  9, 10, 11],\n",
      "        [12, 13, 14, 15]])\n"
     ]
    }
   ],
   "source": [
    "# Установка сида для воспроизводимости\n",
    "torch.manual_seed(46)\n",
    "\n",
    "# Создайте следующие тензоры:\n",
    "# - Тензор размером 3x4, заполненный случайными числами от 0 до 1\n",
    "torch.manual_seed(46)\n",
    "tensor3x4_rand= torch.rand(3, 4)\n",
    "# - Тензор размером 2x3x4, заполненный нулями\n",
    "tensor2x3x4_zeros = torch.zeros((2, 3, 4))\n",
    "# - Тензор размером 5x5, заполненный единицами\n",
    "tensor5x5_ones = torch.ones(5,5)\n",
    "# - Тензор размером 4x4 с числами от 0 до 15 (используйте reshape)\n",
    "tensor4x4 = torch.arange(0, 16)\n",
    "tensor4x4 = tensor4x4.reshape((4,4))\n",
    "\n",
    "print('Случайный:\\n',tensor3x4_rand)\n",
    "print('Нулевой:\\n', tensor2x3x4_zeros)\n",
    "print('Единичный:\\n', tensor5x5_ones)\n",
    "print('Последовательный:\\n', tensor4x4)"
   ]
  },
  {
   "cell_type": "markdown",
   "id": "a6732fe2-8194-407c-8753-b3ab86f788d0",
   "metadata": {},
   "source": [
    "## 1.2 Операции с тензорами (6 баллов)\n"
   ]
  },
  {
   "cell_type": "code",
   "execution_count": 6,
   "id": "d59907a6-7281-4553-aa2a-2601809a3ca5",
   "metadata": {},
   "outputs": [
    {
     "name": "stdout",
     "output_type": "stream",
     "text": [
      "Транспонированный тензор A:\n",
      " tensor([[0.6611, 0.7550, 0.1477],\n",
      "        [0.0600, 0.8390, 0.3597],\n",
      "        [0.5174, 0.0674, 0.9328],\n",
      "        [0.1596, 0.4631, 0.0170]])\n",
      "Матричное умножение A на B:\n",
      "  tensor([[1.0578, 0.8108, 0.6521],\n",
      "        [1.8322, 1.2522, 1.3869],\n",
      "        [0.9210, 0.9986, 0.4515]])\n",
      "Поэлементное умножение A и транспонированного B:\n",
      " tensor([[0.6436, 0.0528, 0.2489, 0.1125],\n",
      "        [0.3102, 0.5512, 0.0498, 0.3411],\n",
      "        [0.1273, 0.2932, 0.0291, 0.0018]])\n",
      "Сумма всех элементов тензора A:\n",
      " tensor(4.9799)\n"
     ]
    }
   ],
   "source": [
    "# Установка сида для воспроизводимости\n",
    "torch.manual_seed(46)\n",
    "\n",
    "# Дано: тензор A размером 3x4 и тензор B размером 4x3\n",
    "# Выполните:\n",
    "# - Транспонирование тензора A\n",
    "# - Матричное умножение A и B\n",
    "# - Поэлементное умножение A и транспонированного B\n",
    "# - Вычислите сумму всех элементов тензора A\n",
    "\n",
    "A = torch.rand(3, 4)\n",
    "B = torch.rand(4, 3)\n",
    "\n",
    "T_tensor = A.T\n",
    "matmul_tensor = A@B\n",
    "mul_A_BTransform = A*B.T\n",
    "sum_A_elems = A.sum()\n",
    "\n",
    "print('Транспонированный тензор A:\\n', T_tensor)\n",
    "print('Матричное умножение A на B:\\n ', matmul_tensor)\n",
    "print('Поэлементное умножение A и транспонированного B:\\n', mul_A_BTransform)\n",
    "print('Сумма всех элементов тензора A:\\n', sum_A_elems)"
   ]
  },
  {
   "cell_type": "markdown",
   "id": "b5c0eb06-e805-4f7b-8dec-cbbbb5810958",
   "metadata": {},
   "source": [
    "## 1.3 Индексация и срезы (6 баллов)\n"
   ]
  },
  {
   "cell_type": "code",
   "execution_count": 8,
   "id": "e8d356c6-5acf-469c-80e2-7d07d2521299",
   "metadata": {},
   "outputs": [
    {
     "name": "stdout",
     "output_type": "stream",
     "text": [
      "Первая строка:\n",
      " tensor([[0.6611, 0.0600, 0.5174, 0.1596, 0.7550],\n",
      "        [0.2633, 0.9035, 0.6618, 0.9728, 0.9471],\n",
      "        [0.5747, 0.9875, 0.1572, 0.1534, 0.7301],\n",
      "        [0.0212, 0.1792, 0.0934, 0.6219, 0.9400],\n",
      "        [0.5990, 0.6566, 0.3949, 0.1408, 0.5100]])\n",
      "Последний столбец:\n",
      " tensor([[0.7550, 0.3597, 0.8620, 0.7388, 0.1455],\n",
      "        [0.9471, 0.3397, 0.5063, 0.1992, 0.0602],\n",
      "        [0.7301, 0.7769, 0.1473, 0.9561, 0.1412],\n",
      "        [0.9400, 0.8611, 0.9862, 0.9526, 0.1365],\n",
      "        [0.5100, 0.9711, 0.5039, 0.5731, 0.5805]])\n",
      "Центры 2х2:\n",
      " tensor([[[0.0674, 0.4631],\n",
      "         [0.0170, 0.9736]],\n",
      "\n",
      "        [[0.9694, 0.6430],\n",
      "         [0.0770, 0.1563]],\n",
      "\n",
      "        [[0.6019, 0.7746],\n",
      "         [0.4427, 0.1632]],\n",
      "\n",
      "        [[0.8525, 0.3752],\n",
      "         [0.4504, 0.6682]],\n",
      "\n",
      "        [[0.4292, 0.6907],\n",
      "         [0.3050, 0.9780]]])\n",
      "С четными индексами:\n",
      " tensor([[[0.6611, 0.5174, 0.7550],\n",
      "         [0.9328, 0.9736, 0.8620],\n",
      "         [0.0312, 0.7364, 0.1455]],\n",
      "\n",
      "        [[0.5747, 0.1572, 0.7301],\n",
      "         [0.8160, 0.1632, 0.1473],\n",
      "         [0.8215, 0.0618, 0.1412]],\n",
      "\n",
      "        [[0.5990, 0.3949, 0.5100],\n",
      "         [0.0571, 0.9780, 0.5039],\n",
      "         [0.7881, 0.9208, 0.5805]]])\n"
     ]
    }
   ],
   "source": [
    "# Установка сида для воспроизводимости\n",
    "torch.manual_seed(46)\n",
    "\n",
    "# Создайте тензор размером 5x5x5\n",
    "tensor5x5x5 = torch.rand((5,5,5))\n",
    "\n",
    "# Извлеките:\n",
    "# - Первую строку\n",
    "print('Первая строка:\\n', tensor5x5x5[:, 0, :])\n",
    "\n",
    "# - Последний столбец\n",
    "print('Последний столбец:\\n', tensor5x5x5[:, :, -1])\n",
    "\n",
    "# - Подматрицу размером 2x2 из центра тензора#\n",
    "# Для каждых матриц в оси 0 вычисляем центр \n",
    "print('Центры 2х2:\\n', tensor5x5x5[:, 1:3, 1:3])\n",
    "\n",
    "\n",
    "# - Все элементы с четными индексами\n",
    "print('С четными индексами:\\n', tensor5x5x5[::2, ::2, ::2])"
   ]
  },
  {
   "cell_type": "markdown",
   "id": "9ded886d-7307-4890-99cb-09daa5a7d3cb",
   "metadata": {},
   "source": [
    "## 1.4 Работа с формами (6 баллов)\n"
   ]
  },
  {
   "cell_type": "code",
   "execution_count": 10,
   "id": "9f408978-fa3d-4ede-98ff-920c17685bc0",
   "metadata": {},
   "outputs": [
    {
     "name": "stdout",
     "output_type": "stream",
     "text": [
      "2x12:\n",
      " tensor([[ 0,  1,  2,  3,  4,  5,  6,  7,  8,  9, 10, 11],\n",
      "        [12, 13, 14, 15, 16, 17, 18, 19, 20, 21, 22, 23]])\n",
      "3x8:\n",
      " tensor([[ 0,  1,  2,  3,  4,  5,  6,  7],\n",
      "        [ 8,  9, 10, 11, 12, 13, 14, 15],\n",
      "        [16, 17, 18, 19, 20, 21, 22, 23]])\n",
      "4x6:\n",
      " tensor([[ 0,  1,  2,  3,  4,  5],\n",
      "        [ 6,  7,  8,  9, 10, 11],\n",
      "        [12, 13, 14, 15, 16, 17],\n",
      "        [18, 19, 20, 21, 22, 23]])\n",
      "2x3x4:\n",
      " tensor([[[ 0,  1,  2,  3],\n",
      "         [ 4,  5,  6,  7],\n",
      "         [ 8,  9, 10, 11]],\n",
      "\n",
      "        [[12, 13, 14, 15],\n",
      "         [16, 17, 18, 19],\n",
      "         [20, 21, 22, 23]]])\n",
      "2x2x2x3:\n",
      " tensor([[[[ 0,  1,  2],\n",
      "          [ 3,  4,  5]],\n",
      "\n",
      "         [[ 6,  7,  8],\n",
      "          [ 9, 10, 11]]],\n",
      "\n",
      "\n",
      "        [[[12, 13, 14],\n",
      "          [15, 16, 17]],\n",
      "\n",
      "         [[18, 19, 20],\n",
      "          [21, 22, 23]]]])\n"
     ]
    }
   ],
   "source": [
    "# Установка сида для воспроизводимости\n",
    "torch.manual_seed(46)\n",
    "\n",
    "# Создайте тензор размером 24 элемента\n",
    "string_tensor = torch.arange(24)\n",
    "# Преобразуйте его в формы:\n",
    "# - 2x12\n",
    "shape2x12 = string_tensor.reshape(2, 12)\n",
    "\n",
    "# - 3x8\n",
    "shape3x8 = string_tensor.reshape(3, 8)\n",
    "\n",
    "# - 4x6\n",
    "shape4x6 = string_tensor.reshape(4,6)\n",
    "\n",
    "# - 2x3x4\n",
    "shape2x3x4 = string_tensor.reshape((2,3,4))\n",
    "\n",
    "# - 2x2x2x3\n",
    "shape2x2x2x3 = string_tensor.reshape((2,2,2,3))\n",
    "\n",
    "print('2x12:\\n', shape2x12)\n",
    "print('3x8:\\n', shape3x8)\n",
    "print('4x6:\\n', shape4x6)\n",
    "print('2x3x4:\\n', shape2x3x4)\n",
    "print('2x2x2x3:\\n', shape2x2x2x3)"
   ]
  },
  {
   "cell_type": "markdown",
   "id": "06a7e246-0511-4680-bbc5-fd79676dc679",
   "metadata": {},
   "source": [
    "# Задание 2: Автоматическое дифференцирование (25 баллов)\n"
   ]
  },
  {
   "cell_type": "markdown",
   "id": "e79787fc-1a44-478c-ba51-cc3e571ead9f",
   "metadata": {},
   "source": [
    "## 2.1 Простые вычисления с градиентами (8 баллов)\n"
   ]
  },
  {
   "cell_type": "code",
   "execution_count": 13,
   "id": "a77595f8-b452-4a7e-a763-3763384f1bd9",
   "metadata": {},
   "outputs": [
    {
     "name": "stdout",
     "output_type": "stream",
     "text": [
      "x: tensor([0.6611, 0.0600, 0.5174, 0.1596, 0.7550, 0.8390], requires_grad=True)\n",
      "y: tensor([0.0674, 0.4631, 0.1477, 0.3597, 0.9328, 0.0170], requires_grad=True)\n",
      "z: tensor([0.9736, 0.4108, 0.8620, 0.8799, 0.6569, 0.8152], requires_grad=True)\n",
      "\n",
      "Градиент x: tensor([1.4534, 0.5005, 1.2895, 0.9523, 2.7355, 1.7058])\n",
      "Градиент y: tensor([1.4220, 0.9755, 1.1874, 1.0003, 2.8575, 1.4020])\n",
      "Градиент z: tensor([2.0363, 0.8772, 1.8769, 1.8747, 2.7223, 1.6590])\n"
     ]
    }
   ],
   "source": [
    "# Установка сида для воспроизводимости\n",
    "torch.manual_seed(46)\n",
    "\n",
    "# Создайте тензоры x, y, z с requires_grad=True\n",
    "x = torch.rand(6, requires_grad=True)\n",
    "y = torch.rand(6, requires_grad=True)\n",
    "z = torch.rand(6, requires_grad=True)\n",
    "print(f'x: {x}')\n",
    "print(f'y: {y}')\n",
    "print(f'z: {z}')\n",
    "print()\n",
    "\n",
    "# Вычислите функцию: f(x,y,z) = x^2 + y^2 + z^2 + 2*x*y*z\n",
    "f = x**2 + y**2 + z**2 + 2*x*y*z\n",
    "# Обратное распространение (Auto grad) \n",
    "f.sum().backward()\n",
    "\n",
    "# Найдите градиенты по всем переменным\n",
    "print('Градиент x:', x.grad)\n",
    "print('Градиент y:', y.grad)\n",
    "print('Градиент z:', z.grad)"
   ]
  },
  {
   "cell_type": "markdown",
   "id": "fb47f453-28d0-4c8a-8c3a-439874a59497",
   "metadata": {},
   "source": [
    "Для вычисления градиента нужно подсчитать производную функции f для каждого из тензоров:\n",
    "- **df(x,y,z)/dx** = 2x + 2yz \n",
    "- **df(x,y,z)/dy** = 2y + 2xz \n",
    "- **df(x,y,z)/dz** = 2z + 2xy \n",
    "\n",
    "После нужно подставлять значения кадого элемента из тензоров. Например (для torch.manual_seed(46)):\\\n",
    ">\n",
    "> x[0] = 0.6611. y[0] = 0.0674, z[0] = 0.9736\\\n",
    "> **df(x,y,z)/dx** = 2 * 0.6611 + 2 * 0.0674 * 0.9736 = **1.4534**4128\\\n",
    ">Это совпадает с полученным результатом x.grad[0] = 1.4534"
   ]
  },
  {
   "cell_type": "markdown",
   "id": "54812c37-7e50-4a2d-a371-591a586780d5",
   "metadata": {},
   "source": [
    "## 2.2 Градиент функции потерь (9 баллов)\n"
   ]
  },
  {
   "cell_type": "code",
   "execution_count": 16,
   "id": "b3cedbc7-1133-4f66-9d5b-103ca988df11",
   "metadata": {},
   "outputs": [
    {
     "name": "stdout",
     "output_type": "stream",
     "text": [
      "Градиент коэффициента:  tensor(-7.2500)\n",
      "Градиент смещения:  tensor(-2.3700)\n"
     ]
    }
   ],
   "source": [
    "# Реализуйте функцию MSE (Mean Squared Error):\n",
    "def MSE(y_pred, y_true):\n",
    "    # MSE = (1/n) * Σ(y_pred - y_true)^2\n",
    "    return torch.mean((y_pred - y_true) ** 2)\n",
    "\n",
    "# где y_pred = w * x + b (линейная функция)\n",
    "# Найдите градиенты по w и b\n",
    "\n",
    "\n",
    "# Истинные значения, которые должна выдавать линейная модель\n",
    "true_values = torch.tensor([2, 4, 6, 8])\n",
    "# Входные данные\n",
    "raw_values = torch.tensor([1, 2, 3, 4])\n",
    "\n",
    "# Назначим условные значения для коэффициента и смещения\n",
    "w = torch.tensor(1.47, requires_grad=True)\n",
    "b = torch.tensor(0.14, requires_grad=True)\n",
    "\n",
    "# Предзказание линейной регрессии\n",
    "y_pred = w * raw_values + b\n",
    "\n",
    "# Вычисление MSE и обратное расспространение\n",
    "mse = MSE(y_pred, true_values)\n",
    "mse.backward()\n",
    "\n",
    "print('Градиент коэффициента: ', w.grad)\n",
    "print('Градиент смещения: ', b.grad)"
   ]
  },
  {
   "cell_type": "markdown",
   "id": "95156f8d-0d2d-4fc9-9a7c-9974a5d07d58",
   "metadata": {},
   "source": [
    "## 2.3 Цепное правило (8 баллов)\n"
   ]
  },
  {
   "cell_type": "code",
   "execution_count": 18,
   "id": "fb573e7c-9ddb-47d6-9ab7-631fb43891ea",
   "metadata": {},
   "outputs": [],
   "source": [
    "# Реализуйте составную функцию: f(x) = sin(x^2 + 1)\n",
    "def F_sin(x):\n",
    "    return torch.sin(x**2 + 1)\n",
    "\n",
    "# Какое-нибуль значение\n",
    "value = torch.tensor([4.0], requires_grad=True)"
   ]
  },
  {
   "cell_type": "markdown",
   "id": "544a7d6c-403c-4970-8c7b-29bec50e8737",
   "metadata": {},
   "source": [
    "### Найдите градиент df/dx\n",
    "Найдем производную по x (то есть в данном случае градиент):\n",
    ">f`(x) = 2x\\*cos(x**2 + 1)\n",
    ">\n",
    ">f`(4) = 2\\*4 \\* cos(16 + 1) = 8cos(17) = 8 \\* −0,27516333805 = −2,2013067044\n",
    "\n",
    "Получили ответ: **−2,2013**067044"
   ]
  },
  {
   "cell_type": "code",
   "execution_count": 20,
   "id": "298a3c5d-4365-4e6b-a661-34cd98373da4",
   "metadata": {},
   "outputs": [
    {
     "name": "stdout",
     "output_type": "stream",
     "text": [
      "Градиент:  (tensor([-2.2013]),)\n"
     ]
    }
   ],
   "source": [
    "# Проверьте результат с помощью torch.autograd.grad\n",
    "answer = F_sin(value)\n",
    "print('Градиент: ', torch.autograd.grad(answer, value))"
   ]
  },
  {
   "cell_type": "markdown",
   "id": "1a8d7409-baa7-4bf6-94cf-305d1e18f52a",
   "metadata": {},
   "source": [
    "# Задание 3: Сравнение производительности CPU vs CUDA (20 баллов)\n"
   ]
  },
  {
   "cell_type": "markdown",
   "id": "b3f8a8f0-bdb3-49a3-b57a-bab676e2516f",
   "metadata": {},
   "source": [
    "## 3.1 Подготовка данных (5 баллов)\n"
   ]
  },
  {
   "cell_type": "code",
   "execution_count": 23,
   "id": "e837c84b-ee28-447c-b292-0f9c7934e138",
   "metadata": {},
   "outputs": [],
   "source": [
    "# Создайте большие матрицы размеров:\n",
    "# - 64 x 1024 x 1024\n",
    "big64x1024x1024 = torch.rand((64, 1024, 1024))\n",
    "\n",
    "# - 128 x 512 x 512\n",
    "big128x512x512 = torch.rand((128,512,512))\n",
    "\n",
    "# - 256 x 256 x 256\n",
    "big256x256x256 = torch.rand((256,256,256))\n",
    "\n",
    "# Заполните их случайными числами (сделано)"
   ]
  },
  {
   "cell_type": "markdown",
   "id": "eb16ac80-e71b-4d98-9552-0563f193ecb3",
   "metadata": {},
   "source": [
    "## 3.2 Функция измерения времени (5 баллов)\n"
   ]
  },
  {
   "cell_type": "code",
   "execution_count": 25,
   "id": "fa6fe36e-f989-4981-b9fe-73661a838198",
   "metadata": {},
   "outputs": [],
   "source": [
    "# Создайте функцию для измерения времени выполнения операций\n",
    "# Используйте torch.cuda.Event() для точного измерения на GPU\n",
    "# Используйте time.time() для измерения на CPU\n",
    "import time\n",
    "\n",
    "def GPU(tensor, operator):\n",
    "    tensor = tensor.to(torch.device('cuda'))\n",
    "    # Инициализируем cuda Events и активируем счетчик времени\n",
    "    start = torch.cuda.Event(enable_timing=True)\n",
    "    end = torch.cuda.Event(enable_timing=True)\n",
    "    start.record()\n",
    "    # Для усреднения результата проводим вычисления 10 раз\n",
    "    for i in range(15):\n",
    "        operator(tensor)\n",
    "    end.record()\n",
    "    torch.cuda.synchronize()  # Ждем пока все ядра закончат работать  \n",
    "    return start.elapsed_time(end) / 15\n",
    "\n",
    "def CPU(tensor, operator):\n",
    "    start = time.time()\n",
    "    # Для усреднения результата проводим вычисления 10 раз\n",
    "    for i in range(10):\n",
    "        operator(tensor)\n",
    "    total_time = time.time() - start\n",
    "    return total_time / 15\n"
   ]
  },
  {
   "cell_type": "markdown",
   "id": "57e529b4-b76f-4c00-9d5a-dd0cf2d14eb4",
   "metadata": {},
   "source": [
    "## 3.3 Сравнение операций (10 баллов)\n"
   ]
  },
  {
   "cell_type": "code",
   "execution_count": 27,
   "id": "748286f3-bed9-43e1-8532-02098be3924f",
   "metadata": {},
   "outputs": [
    {
     "name": "stderr",
     "output_type": "stream",
     "text": [
      "C:\\Users\\bigbl\\AppData\\Local\\Temp\\ipykernel_13416\\2909483635.py:16: UserWarning: The use of `x.T` on tensors of dimension other than 2 to reverse their shape is deprecated and it will throw an error in a future release. Consider `x.mT` to transpose batches of matrices or `x.permute(*torch.arange(x.ndim - 1, -1, -1))` to reverse the dimensions of a tensor. (Triggered internally at C:\\actions-runner\\_work\\pytorch\\pytorch\\pytorch\\aten\\src\\ATen\\native\\TensorShape.cpp:4416.)\n",
      "  return tensor.T\n"
     ]
    }
   ],
   "source": [
    "# Сравните время выполнения следующих операций на CPU и CUDA:\n",
    "# - Матричное умножение (torch.matmul)\n",
    "def matmul(tensor):\n",
    "    return torch.matmul(tensor, tensor)\n",
    "    \n",
    "# - Поэлементное сложение\n",
    "def add(tensor):\n",
    "    return tensor + tensor\n",
    "\n",
    "# - Поэлементное умножение\n",
    "def multiply(tensor):\n",
    "    return tensor * tensor\n",
    "  \n",
    "# - Транспонирование\n",
    "def transposition(tensor):\n",
    "    return tensor.T\n",
    "    \n",
    "# - Вычисление суммы всех элементов\n",
    "def summurize(tensor):\n",
    "    return tensor.sum()\n",
    "\n",
    "# Для каждой операции:\n",
    "# 1. Измерьте время на CPU\n",
    "matmulCPU = CPU(big64x1024x1024, matmul) * 1000\n",
    "addCPU = CPU(big64x1024x1024, add) * 1000\n",
    "multiplyCPU = CPU(big64x1024x1024, multiply) * 1000\n",
    "transpositionCPU = CPU(big64x1024x1024, transposition) * 1000\n",
    "summurizeCPU = CPU(big64x1024x1024, summurize) * 1000\n",
    "\n",
    "# 2. Измерьте время на GPU (если доступен)\n",
    "matmulGPU = GPU(big64x1024x1024, matmul)\n",
    "addGPU = GPU(big64x1024x1024, add)\n",
    "multiplyGPU = GPU(big64x1024x1024, multiply)\n",
    "transpositionGPU = GPU(big64x1024x1024, transposition)\n",
    "summurizeGPU = GPU(big64x1024x1024, summurize)"
   ]
  },
  {
   "cell_type": "code",
   "execution_count": 28,
   "id": "88e68ced-1a9e-4543-ae1f-43396939de97",
   "metadata": {},
   "outputs": [
    {
     "name": "stdout",
     "output_type": "stream",
     "text": [
      "Операция\t\t| CPU(мс)\t     | GPU(мс) \t\t | Ускорение\n",
      "Матричное умножение\t| 298.560889561971  | 41.857906087239584 | 7.13272\n",
      "Поэлементное умножение\t| 29.961935679117836 | 3.4706944783528644| 8.63284\n",
      "Поэлементное сложение\t| 29.361168543497723 | 29.361168543497723| 7.89456\n",
      "Транспонирование\t| 0.0| 0.00632\t\t | ?\n",
      "Вычисление суммы\t| 7.420269648234049  | 2.1007872263590497| 3.53214\n"
     ]
    }
   ],
   "source": [
    "# 3. Вычислите ускорение (speedup)\n",
    "matmulSpeedUp =  round(matmulCPU / matmulGPU, 5)\n",
    "addSpeedUP =  round(addCPU/addGPU, 5)\n",
    "multiplySpeedUp =  round(multiplyCPU/multiplyGPU, 5)\n",
    "# transpositionSpeedUp = transpositionGPU / transpositionCPU\n",
    "summurizeSpeedUp =  round(summurizeCPU/summurizeGPU, 5)\n",
    "\n",
    "# 4. Выведите результаты в табличном виде\n",
    "print('Операция\\t\\t| CPU(мс)\\t     | GPU(мс) \\t\\t | Ускорение')\n",
    "print(f'Матричное умножение\\t| {matmulCPU}  | {matmulGPU} | {matmulSpeedUp}')\n",
    "print(f'Поэлементное умножение\\t| {multiplyCPU} | {multiplyGPU}| {multiplySpeedUp}')\n",
    "print(f'Поэлементное сложение\\t| {addCPU} | {addCPU}| {addSpeedUP}')\n",
    "print(f'Транспонирование\\t| {transpositionCPU}| {round(transpositionGPU, 5)}\\t\\t | ?')\n",
    "print(f'Вычисление суммы\\t| {summurizeCPU}  | {summurizeGPU}| {summurizeSpeedUp}')\n"
   ]
  },
  {
   "cell_type": "markdown",
   "id": "3b01c351-c50a-49c5-9aa1-73a12118935e",
   "metadata": {},
   "source": [
    "## 3.4 Анализ результатов (5 баллов)\n"
   ]
  },
  {
   "cell_type": "markdown",
   "id": "a24503cb-41b9-480a-8b9e-2f18173b4702",
   "metadata": {},
   "source": [
    "Проанализируйте результаты:\n",
    "- Какие операции получают наибольшее ускорение на GPU?\n",
    "  >Матричное умножение, поэлементное сложение и поэлементное умножение, так как они являются самыми затратными и GPU пожет расспараллелить эти вычисления\n",
    "- Почему некоторые операции могут быть медленнее на GPU?\n",
    "  > Это связано с легкостью вычисления, например, транспонирования: GPU трати время на передачу данных с CPU на GPU. Также есть свои накладные алгоритмы у GPU, поэтому вычисление легких задач на CPU быстрее\n",
    "- Как размер матриц влияет на ускорение?\n",
    "- Что происходит при передаче данных между CPU и GPU?"
   ]
  }
 ],
 "metadata": {
  "kernelspec": {
   "display_name": "Python 3 (ipykernel)",
   "language": "python",
   "name": "python3"
  },
  "language_info": {
   "codemirror_mode": {
    "name": "ipython",
    "version": 3
   },
   "file_extension": ".py",
   "mimetype": "text/x-python",
   "name": "python",
   "nbconvert_exporter": "python",
   "pygments_lexer": "ipython3",
   "version": "3.12.7"
  }
 },
 "nbformat": 4,
 "nbformat_minor": 5
}
